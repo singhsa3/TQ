{
 "cells": [
  {
   "cell_type": "code",
   "execution_count": 1,
   "id": "4b66a681-9237-4c41-9f10-b2d2f5135fda",
   "metadata": {},
   "outputs": [
    {
     "name": "stdout",
     "output_type": "stream",
     "text": [
      "1055\n"
     ]
    },
    {
     "name": "stderr",
     "output_type": "stream",
     "text": [
      "/home/ubuntu/.local/lib/python3.8/site-packages/joblib/externals/loky/process_executor.py:702: UserWarning: A worker stopped while some jobs were given to the executor. This can be caused by a too short worker timeout or by a memory leak.\n",
      "  warnings.warn(\n"
     ]
    }
   ],
   "source": [
    "# -*- coding: utf-8 -*-\n",
    "\"\"\"\n",
    "Spyder Editor\n",
    "\n",
    "wave3vecfeatures.py\n",
    "This program does the following:\n",
    "    1. Extract features from each audio files for each transformer layer in wave2 vec2\n",
    "    2. Please note the pattern is same as that librosa feature extraction\n",
    "    \n",
    "\"\"\"\n",
    "\n",
    "\n",
    "import torch\n",
    "#from fairseq.models.wav2vec import Wav2Vec2Model,Wav2VecModel\n",
    "import librosa\n",
    "import numpy as np\n",
    "import os\n",
    "#import IPython\n",
    "import matplotlib\n",
    "import matplotlib.pyplot as plt\n",
    "#import requests\n",
    "\n",
    "import torchaudio\n",
    "\n",
    "import pickle\n",
    "\n",
    "import glob\n",
    "import numpy as np\n",
    "from os.path import exists\n",
    "\n",
    "device = torch.device(\"cpu\")\n",
    "\n",
    "\n",
    "#recrd = \"139_39117_1587600000.wav\"\n",
    "#DATASET_PATH = \"../data/normalized_samples\"\n",
    "pathG='../data'\n",
    "DATASET_PATH = '../samples/voice_samples'\n",
    "\n",
    "\n",
    "wvs = {'w2v2L0':0,'w2v2L1':1,'w2v2L2':2, 'w2v2L3':3,'w2v2L4':4,'w2v2L5':5,'w2v2L6':6,'w2v2L7':7,'w2v2L8':8,'w2v2L9':9,'w2v2L10':10,'w2v2L11':11 }\n",
    "wvs={'w2v2L10':10}\n",
    "\n",
    "filenames= glob.glob(DATASET_PATH+\"/*.wav\" )\n",
    "filenames = [os.path.basename(x) for x in filenames]\n",
    "print(len(filenames))\n",
    "\n",
    "from joblib import Parallel, delayed\n",
    "bundle = torchaudio.pipelines.WAV2VEC2_BASE\n",
    "model = bundle.get_model().to(device)\n",
    "\n",
    "def process(DATASET_PATH, pathG,recrd):    \n",
    "    file = DATASET_PATH +\"/\"+ recrd\n",
    "    flna={}\n",
    "    wva=[]\n",
    "    flo = recrd.split('.')[0]\n",
    "    for wv in wvs:         \n",
    "        fln=pathG+'/w2v2/'+wv+'/'+flo+'.pickle'        \n",
    "        if exists(fln)== False:\n",
    "            flna[wv]=fln\n",
    "            wva.append(wv)\n",
    "        print(wva)\n",
    "    if len(flna)>0:     \n",
    "        waveform, sample_rate = torchaudio.load(file)\n",
    "        waveform = waveform.to(device)        \n",
    "        #print(recrd)\n",
    "        if sample_rate != bundle.sample_rate:\n",
    "            waveform = torchaudio.functional.resample(waveform, sample_rate, bundle.sample_rate)\n",
    "        with torch.inference_mode():\n",
    "            features, _ = model.extract_features(waveform)     \n",
    "    for wv in wva:        \n",
    "        with open(flna[wv], 'wb') as handle:\n",
    "            print(wvs[wv])\n",
    "            pickle.dump(features[wvs[wv]], handle, protocol=pickle.HIGHEST_PROTOCOL) \n",
    "        handle.close()\n",
    "    features= None\n",
    "results = Parallel(n_jobs=-1)(delayed(process)(DATASET_PATH, pathG,recrd) for recrd in filenames)\n"
   ]
  },
  {
   "cell_type": "code",
   "execution_count": null,
   "id": "420f0525-195f-40a5-b7ce-1c473c8a9659",
   "metadata": {},
   "outputs": [],
   "source": []
  }
 ],
 "metadata": {
  "kernelspec": {
   "display_name": "Python 3",
   "language": "python",
   "name": "python3"
  },
  "language_info": {
   "codemirror_mode": {
    "name": "ipython",
    "version": 3
   },
   "file_extension": ".py",
   "mimetype": "text/x-python",
   "name": "python",
   "nbconvert_exporter": "python",
   "pygments_lexer": "ipython3",
   "version": "3.8.10"
  }
 },
 "nbformat": 4,
 "nbformat_minor": 5
}
