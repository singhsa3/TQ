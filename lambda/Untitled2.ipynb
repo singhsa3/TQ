{
 "cells": [
  {
   "cell_type": "code",
   "execution_count": 3,
   "id": "c4d006b4-294d-4fd2-8f78-684f312fb403",
   "metadata": {},
   "outputs": [
    {
     "name": "stdout",
     "output_type": "stream",
     "text": [
      "Name: pandas\n",
      "Version: 1.4.0\n",
      "Summary: Powerful data structures for data analysis, time series, and statistics\n",
      "Home-page: https://pandas.pydata.org\n",
      "Author: The Pandas Development Team\n",
      "Author-email: pandas-dev@python.org\n",
      "License: BSD-3-Clause\n",
      "Location: /home/ubuntu/.local/lib/python3.8/site-packages\n",
      "Requires: numpy, pytz, python-dateutil\n",
      "Required-by: visions, seaborn, phik, pandas-profiling\n"
     ]
    }
   ],
   "source": [
    "!pip show pandas"
   ]
  },
  {
   "cell_type": "code",
   "execution_count": 12,
   "id": "f57f5f0e-794b-44b7-9db0-8e635270c256",
   "metadata": {},
   "outputs": [],
   "source": [
    "#export\n",
    "import pandas as pd\n",
    "def getZ(x): \n",
    "    c=np.array(x[0]).T\n",
    "    \n",
    "    #print(c.shape)\n",
    "    b = np.max(c)\n",
    "    a = np.min(c)\n",
    "    c =(c-a)/(b-a)\n",
    "    c= pd.DataFrame(c)\n",
    "    #c= c.astype('float64')\n",
    "    #print(type(c))\n",
    "    c=c.describe(percentiles=[.1, .25,.5,.75,.90])\n",
    "    #print(c.shape)\n",
    "    c=c.drop(['count'])\n",
    "    c=np.array(c.T)\n",
    "    \n",
    "    return  c"
   ]
  },
  {
   "cell_type": "code",
   "execution_count": 13,
   "id": "8584f92f-15e6-4586-9e7e-f1aecba41eea",
   "metadata": {},
   "outputs": [],
   "source": [
    "import pickle\n",
    "import numpy as np\n",
    "import pandas as pd\n",
    "DATASET_PATH0 = '../data/w2v2/w2v2L0'\n",
    "fl='5370_39117_1056415039.pickle'\n",
    "fl=DATASET_PATH0+'/'+fl\n",
    "with open(fl,\"rb\") as f:\n",
    "    x=pickle.load(f)\n",
    "l1 = x[0].shape[0]\n",
    "x =getZ(x)"
   ]
  },
  {
   "cell_type": "code",
   "execution_count": 14,
   "id": "4131c13b-5e4e-4aee-85c4-7e6222ac4031",
   "metadata": {},
   "outputs": [],
   "source": [
    "import numpy as np\n",
    "l95=4000\n",
    "arr=np.pad(x ,((10,l95-l1+1),(0,0)), 'constant')\n",
    "arr = arr.reshape(arr.shape[0],arr.shape[1],1)"
   ]
  },
  {
   "cell_type": "code",
   "execution_count": 15,
   "id": "06f87e1c-3e26-47c9-9576-8e5cc1226b96",
   "metadata": {},
   "outputs": [
    {
     "data": {
      "text/plain": [
       "(4011, 9, 1)"
      ]
     },
     "execution_count": 15,
     "metadata": {},
     "output_type": "execute_result"
    }
   ],
   "source": [
    "arr.shape"
   ]
  },
  {
   "cell_type": "code",
   "execution_count": null,
   "id": "75979df4-6bd1-4f8b-bec0-7c3edd4fd47e",
   "metadata": {},
   "outputs": [],
   "source": []
  }
 ],
 "metadata": {
  "kernelspec": {
   "display_name": "Python 3",
   "language": "python",
   "name": "python3"
  },
  "language_info": {
   "codemirror_mode": {
    "name": "ipython",
    "version": 3
   },
   "file_extension": ".py",
   "mimetype": "text/x-python",
   "name": "python",
   "nbconvert_exporter": "python",
   "pygments_lexer": "ipython3",
   "version": "3.8.10"
  }
 },
 "nbformat": 4,
 "nbformat_minor": 5
}
