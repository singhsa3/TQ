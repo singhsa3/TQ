{
 "cells": [
  {
   "cell_type": "code",
   "execution_count": null,
   "id": "1a08b5a3-f993-43a4-9868-278410bb4f32",
   "metadata": {},
   "outputs": [
    {
     "name": "stdout",
     "output_type": "stream",
     "text": [
      "1044\n"
     ]
    }
   ],
   "source": [
    "import os\n",
    "dir= '../data/w2v2/three_mfcc'\n",
    "list = os.listdir(dir) # dir is your directory path\n",
    "number_files = len(list)\n",
    "print (number_files)"
   ]
  },
  {
   "cell_type": "code",
   "execution_count": 27,
   "id": "878294e2-5af3-4929-b73d-97eeb1eabdb9",
   "metadata": {},
   "outputs": [],
   "source": [
    "import pickle5 as pickle\n",
    "with open(dir+'/8161_39117_765045388.pickle', 'rb') as f:\n",
    "    ab = pickle.load(f)"
   ]
  },
  {
   "cell_type": "code",
   "execution_count": 28,
   "id": "c933af0a-baa5-4e6e-bf43-45956653e6eb",
   "metadata": {},
   "outputs": [
    {
     "data": {
      "text/plain": [
       "(1, 5000, 22, 3)"
      ]
     },
     "execution_count": 28,
     "metadata": {},
     "output_type": "execute_result"
    }
   ],
   "source": [
    "ab.shape"
   ]
  },
  {
   "cell_type": "code",
   "execution_count": 9,
   "id": "f461f2d3-2442-4d8d-ae38-393481113fa7",
   "metadata": {},
   "outputs": [
    {
     "data": {
      "text/plain": [
       "-3.0296824"
      ]
     },
     "execution_count": 9,
     "metadata": {},
     "output_type": "execute_result"
    }
   ],
   "source": [
    "\n",
    "import numpy as np\n",
    "np.min(ab.numpy())\n"
   ]
  },
  {
   "cell_type": "code",
   "execution_count": null,
   "id": "1e175158-d485-4111-9acb-f9b3cddd1ea9",
   "metadata": {},
   "outputs": [],
   "source": []
  }
 ],
 "metadata": {
  "kernelspec": {
   "display_name": "Python 3",
   "language": "python",
   "name": "python3"
  },
  "language_info": {
   "codemirror_mode": {
    "name": "ipython",
    "version": 3
   },
   "file_extension": ".py",
   "mimetype": "text/x-python",
   "name": "python",
   "nbconvert_exporter": "python",
   "pygments_lexer": "ipython3",
   "version": "3.8.10"
  }
 },
 "nbformat": 4,
 "nbformat_minor": 5
}
