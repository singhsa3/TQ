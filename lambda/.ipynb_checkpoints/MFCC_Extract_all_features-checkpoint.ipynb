{
 "cells": [
  {
   "cell_type": "code",
   "execution_count": 2,
   "id": "ef355bad-dece-4778-bf8f-f3f6e392a851",
   "metadata": {},
   "outputs": [],
   "source": [
    "import librosa\n",
    "import numpy as np\n",
    "import os\n",
    "#import IPython\n",
    "import matplotlib\n",
    "import matplotlib.pyplot as plt\n",
    "from os.path import exists\n",
    "import glob\n",
    "import pickle5 as pickle"
   ]
  },
  {
   "cell_type": "code",
   "execution_count": 5,
   "id": "a5a9cde1-2924-441e-9116-fb26ec432a5c",
   "metadata": {},
   "outputs": [
    {
     "name": "stdout",
     "output_type": "stream",
     "text": [
      "(20, 1564) (20, 1564) (20, 1564)\n",
      "(1, 1564, 20) (1, 1564, 20) (1, 1564, 20)\n"
     ]
    }
   ],
   "source": [
    "#recrd = \"139_39117_1587600000.wav\"\n",
    "#DATASET_PATH = \"../data/normalized_samples\"\n",
    "pathG='../data'\n",
    "DATASET_PATH = '../samples/voice_sample'\n",
    "y, sr = librosa.load('../samples/voice_samples/9926_39117_4078229390.wav')\n",
    "y = librosa.resample(y, orig_sr=sr, target_sr=16000)\n",
    "mfcc = librosa.feature.mfcc(y=y, sr=16000)\n",
    "mfcc_delta1 = librosa.feature.delta(mfcc, order=1)\n",
    "mfcc_delta2 = librosa.feature.delta(mfcc, order=2)\n",
    "#print(mfcc.shape, mfcc_delta1.shape, mfcc_delta2)\n",
    "amfcc= np.expand_dims(mfcc.T, axis=0)\n",
    "amfcc_delta1= np.expand_dims(mfcc_delta1.T, axis=0)\n",
    "amfcc_delta2= np.expand_dims(mfcc_delta2.T, axis=0)\n",
    "print(mfcc.shape, mfcc_delta1.shape, mfcc_delta2.shape)\n",
    "print(amfcc.shape, amfcc_delta1.shape, amfcc_delta2.shape)\n",
    "flo='9926_39117_4078229390'\n",
    "fln=pathG+'/mfcc/delta0/'+flo+'.pickle'\n",
    "if exists(fln)==False:\n",
    "    with open(fln, 'wb') as handle:            \n",
    "            pickle.dump(amfcc, handle, protocol=pickle.HIGHEST_PROTOCOL)\n",
    "    handle.close()\n",
    "fln=pathG+'/mfcc/delta1/'+flo+'.pickle'    \n",
    "if exists(fln)==False:\n",
    "    with open(fln, 'wb') as handle:            \n",
    "            pickle.dump(amfcc_delta1, handle, protocol=pickle.HIGHEST_PROTOCOL) \n",
    "    handle.close()\n",
    "fln=pathG+'/mfcc/delta2/'+flo+'.pickle'    \n",
    "if exists(fln)==False:\n",
    "    with open(fln, 'wb') as handle:            \n",
    "            pickle.dump(amfcc_delta2, handle, protocol=pickle.HIGHEST_PROTOCOL)  \n",
    "    handle.close()"
   ]
  },
  {
   "cell_type": "code",
   "execution_count": null,
   "id": "94fd50d8-f148-441a-bcdf-c7190b1b2183",
   "metadata": {},
   "outputs": [
    {
     "name": "stdout",
     "output_type": "stream",
     "text": [
      "1055\n"
     ]
    }
   ],
   "source": [
    "\n",
    "#recrd = \"139_39117_1587600000.wav\"\n",
    "#DATASET_PATH = \"../data/normalized_samples\"\n",
    "pathG='../data'\n",
    "DATASET_PATH = '../samples/voice_samples'\n",
    "\n",
    "\n",
    "\n",
    "filenames= glob.glob(DATASET_PATH+\"/*.wav\" )\n",
    "filenames = [os.path.basename(x) for x in filenames]\n",
    "print(len(filenames))\n",
    "\n",
    "from joblib import Parallel, delayed\n",
    "\n",
    "\n",
    "def process(DATASET_PATH, pathG,recrd):    \n",
    "    file = DATASET_PATH +\"/\"+ recrd\n",
    "    flo = recrd.split('.')[0]\n",
    "    y, sr = librosa.load(file)\n",
    "    y = librosa.resample(y, orig_sr=sr, target_sr=16000)\n",
    "    mfcc = librosa.feature.mfcc(y=y, sr=16000)\n",
    "    mfcc_delta1 = librosa.feature.delta(mfcc, order=1)\n",
    "    mfcc_delta2 = librosa.feature.delta(mfcc, order=2)\n",
    "    #print(mfcc.shape, mfcc_delta1.shape, mfcc_delta2)\n",
    "    amfcc= np.expand_dims(mfcc.T, axis=0)\n",
    "    amfcc_delta1= np.expand_dims(mfcc_delta1.T, axis=0)\n",
    "    amfcc_delta2= np.expand_dims(mfcc_delta2.T, axis=0)\n",
    "    print(mfcc.shape, mfcc_delta1.shape, mfcc_delta2.shape)\n",
    "    print(amfcc.shape, amfcc_delta1.shape, amfcc_delta2.shape)\n",
    "    \n",
    "    fln=pathG+'/mfcc/delta0/'+flo+'.pickle'\n",
    "    if exists(fln)==False:\n",
    "        with open(fln, 'wb') as handle:            \n",
    "                pickle.dump(amfcc, handle, protocol=pickle.HIGHEST_PROTOCOL)\n",
    "        handle.close()\n",
    "    fln=pathG+'/mfcc/delta1/'+flo+'.pickle'    \n",
    "    if exists(fln)==False:\n",
    "        with open(fln, 'wb') as handle:            \n",
    "                pickle.dump(amfcc_delta1, handle, protocol=pickle.HIGHEST_PROTOCOL) \n",
    "        handle.close()\n",
    "    fln=pathG+'/mfcc/delta2/'+flo+'.pickle'    \n",
    "    if exists(fln)==False:\n",
    "        with open(fln, 'wb') as handle:            \n",
    "                pickle.dump(amfcc_delta2, handle, protocol=pickle.HIGHEST_PROTOCOL)  \n",
    "        handle.close()\n",
    "    \n",
    "results = Parallel(n_jobs=-1,backend='multiprocessing')(delayed(process)(DATASET_PATH, pathG,recrd) for recrd in filenames)"
   ]
  },
  {
   "cell_type": "code",
   "execution_count": null,
   "id": "420f0525-195f-40a5-b7ce-1c473c8a9659",
   "metadata": {},
   "outputs": [],
   "source": []
  }
 ],
 "metadata": {
  "kernelspec": {
   "display_name": "Python 3",
   "language": "python",
   "name": "python3"
  },
  "language_info": {
   "codemirror_mode": {
    "name": "ipython",
    "version": 3
   },
   "file_extension": ".py",
   "mimetype": "text/x-python",
   "name": "python",
   "nbconvert_exporter": "python",
   "pygments_lexer": "ipython3",
   "version": "3.8.10"
  }
 },
 "nbformat": 4,
 "nbformat_minor": 5
}
