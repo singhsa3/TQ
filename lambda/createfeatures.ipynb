{
 "cells": [
  {
   "cell_type": "code",
   "execution_count": null,
   "id": "af840439-ded8-458d-9ddc-381dc80ae7d7",
   "metadata": {},
   "outputs": [],
   "source": [
    "#%pip install torch==1.10.0 torchvision==0.11.1 torchaudio==0.10.0 -f https://download.pytorch.org/whl/cu113/torch_stable.html"
   ]
  },
  {
   "cell_type": "code",
   "execution_count": 5,
   "id": "a053c4ce-982d-4926-b11d-938582b2922a",
   "metadata": {},
   "outputs": [
    {
     "name": "stdout",
     "output_type": "stream",
     "text": [
      "Now doing Hubert\n"
     ]
    }
   ],
   "source": [
    "# -*- coding: utf-8 -*-\n",
    "\"\"\"\n",
    "Spyder Editor\n",
    "\n",
    "wave3vecfeatures.py\n",
    "This program does the following:\n",
    "    1. Extract features from each audio files for each transformer layer in wave2 vec2\n",
    "    2. Please note the pattern is same as that librosa feature extraction\n",
    "    \n",
    "\"\"\"\n",
    "print('Now doing Hubert')\n",
    "#import fairseq\n",
    "import torch\n",
    "#from fairseq.models.wav2vec import Wav2Vec2Model,Wav2VecModel\n",
    "import librosa\n",
    "import numpy as np\n",
    "import os\n",
    "#import IPython\n",
    "import matplotlib\n",
    "import matplotlib.pyplot as plt\n",
    "#import requests\n",
    "\n",
    "import torchaudio\n",
    "#from torchvision import datasets, transforms, models\n",
    "#import librosa, librosa.display\n",
    "#import matplotlib.pyplot as plt\n",
    "import pickle\n",
    "#import os\n",
    "\n",
    "import numpy as np\n",
    "\n",
    "\n",
    "\n",
    "\n",
    "#recrd = \"139_39117_1587600000.wav\"\n",
    "DATASET_PATH = \"../samples/voice_samples\"\n",
    "\n",
    "import glob\n",
    "filenames= glob.glob(DATASET_PATH+\"/*.wav\" )\n",
    "filenames = [os.path.basename(x) for x in filenames]\n",
    "\n",
    "\n",
    "from joblib import Parallel, delayed\n",
    "\n",
    "\n"
   ]
  },
  {
   "cell_type": "code",
   "execution_count": 13,
   "id": "702dc0a1-6025-41b2-8730-84254739abe7",
   "metadata": {},
   "outputs": [],
   "source": [
    "from numba import cuda \n",
    "device = cuda.get_current_device()\n",
    "device.reset()"
   ]
  },
  {
   "cell_type": "code",
   "execution_count": 3,
   "id": "c33793a1-90e0-4667-876e-a9c86e60512d",
   "metadata": {},
   "outputs": [
    {
     "name": "stderr",
     "output_type": "stream",
     "text": [
      "Downloading: \"https://download.pytorch.org/torchaudio/models/wav2vec2_fairseq_base_ls960.pth\" to /home/ubuntu/.cache/torch/hub/checkpoints/wav2vec2_fairseq_base_ls960.pth\n"
     ]
    },
    {
     "data": {
      "application/vnd.jupyter.widget-view+json": {
       "model_id": "7100892b127141608e02622d064deaea",
       "version_major": 2,
       "version_minor": 0
      },
      "text/plain": [
       "  0%|          | 0.00/360M [00:00<?, ?B/s]"
      ]
     },
     "metadata": {},
     "output_type": "display_data"
    }
   ],
   "source": [
    "DATASET_PATH = \"../samples/voice_samples\"\n",
    "device = torch.device(\"cpu\")\n",
    "bundle = torchaudio.pipelines.WAV2VEC2_BASE\n",
    "model = bundle.get_model().to(device)\n",
    "\n"
   ]
  },
  {
   "cell_type": "code",
   "execution_count": 6,
   "id": "93274cd9-8bb7-4f47-9add-de13e3c4d1b5",
   "metadata": {},
   "outputs": [
    {
     "name": "stderr",
     "output_type": "stream",
     "text": [
      "/home/ubuntu/.local/lib/python3.8/site-packages/joblib/externals/loky/process_executor.py:702: UserWarning: A worker stopped while some jobs were given to the executor. This can be caused by a too short worker timeout or by a memory leak.\n",
      "  warnings.warn(\n"
     ]
    }
   ],
   "source": [
    "pkl= \"../data/w2v2L8\"\n",
    "def process(recrd):    \n",
    "    file = DATASET_PATH +\"/\"+ recrd\n",
    "    flo = recrd.split('.')[0]\n",
    "\n",
    "    print(\"model downloaded\")   \n",
    "    from os.path import exists\n",
    "    path_to_file= pkl+'/'+flo+'.pickle'\n",
    "    if exists(path_to_file)==False:\n",
    "        waveform, sample_rate = torchaudio.load(file)\n",
    "        waveform = waveform.to(device)\n",
    "        #print(recrd)\n",
    "        if sample_rate != bundle.sample_rate:\n",
    "            waveform = torchaudio.functional.resample(waveform, sample_rate, bundle.sample_rate)\n",
    "        with torch.inference_mode():\n",
    "            features, _ = model.extract_features(waveform)        \n",
    "        with open(path_to_file, 'wb') as handle:\n",
    "            pickle.dump(features[8], handle, protocol=pickle.HIGHEST_PROTOCOL)\n",
    "        features= None\n",
    "        \n",
    "\n",
    "results = Parallel(n_jobs=-1)(delayed(process)(recrd) for recrd in filenames)"
   ]
  },
  {
   "cell_type": "code",
   "execution_count": null,
   "id": "538b2b50-56b5-491d-a797-877db354a58e",
   "metadata": {},
   "outputs": [],
   "source": []
  },
  {
   "cell_type": "code",
   "execution_count": null,
   "id": "3b643309-a848-4b02-86f1-bc246d3d3aa5",
   "metadata": {},
   "outputs": [],
   "source": []
  }
 ],
 "metadata": {
  "kernelspec": {
   "display_name": "Python 3",
   "language": "python",
   "name": "python3"
  },
  "language_info": {
   "codemirror_mode": {
    "name": "ipython",
    "version": 3
   },
   "file_extension": ".py",
   "mimetype": "text/x-python",
   "name": "python",
   "nbconvert_exporter": "python",
   "pygments_lexer": "ipython3",
   "version": "3.8.10"
  }
 },
 "nbformat": 4,
 "nbformat_minor": 5
}
