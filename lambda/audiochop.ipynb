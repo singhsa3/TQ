{
 "cells": [
  {
   "cell_type": "code",
   "execution_count": 5,
   "id": "d2f91fd0-936c-45fb-8733-28d1833e68f8",
   "metadata": {},
   "outputs": [
    {
     "name": "stdout",
     "output_type": "stream",
     "text": [
      "Collecting pydub\n",
      "  Downloading pydub-0.25.1-py2.py3-none-any.whl (32 kB)\n",
      "Installing collected packages: pydub\n",
      "Successfully installed pydub-0.25.1\n"
     ]
    }
   ],
   "source": [
    "!pip install pydub"
   ]
  },
  {
   "cell_type": "code",
   "execution_count": 2,
   "id": "f857dac1-714d-4f18-8f65-ae700691b06f",
   "metadata": {},
   "outputs": [],
   "source": [
    "import os\n",
    "#recrd = \"139_39117_1587600000.wav\"\n",
    "DATASET_PATH = \"../samples/voice_samples\"\n",
    "\n",
    "import glob\n",
    "filenames= glob.glob(DATASET_PATH+\"/*.wav\" )\n",
    "filenames = [os.path.basename(x) for x in filenames]"
   ]
  },
  {
   "cell_type": "code",
   "execution_count": 8,
   "id": "8afea374-b56a-4c13-ba69-0e723548aa28",
   "metadata": {},
   "outputs": [],
   "source": [
    "from pydub import AudioSegment\n",
    "from pydub.utils import make_chunks\n",
    "for file in filenames:\n",
    "    myaudio = AudioSegment.from_file(DATASET_PATH+'/'+file, \"wav\") \n",
    "    chunk_length_ms = 30000 # pydub calculates in millisec \n",
    "    chunks = make_chunks(myaudio,chunk_length_ms) #Make chunks of one sec \n",
    "    mlf=chunks[0].set_frame_rate(16000)\n",
    "    mlf.export('../data/voice30/'+file, format=\"wav\") \n",
    "\n",
    "    "
   ]
  },
  {
   "cell_type": "code",
   "execution_count": 10,
   "id": "e0fb0fa5-cb5e-4f9e-9d41-471bbfae071e",
   "metadata": {},
   "outputs": [],
   "source": [
    "import numpy as np\n",
    "A=np.zeros((1,5000,768))\n"
   ]
  },
  {
   "cell_type": "code",
   "execution_count": 15,
   "id": "0bc64a83-0370-46ec-bf4b-eb7fcabc154e",
   "metadata": {},
   "outputs": [
    {
     "data": {
      "text/plain": [
       "(1, 2000, 768)"
      ]
     },
     "execution_count": 15,
     "metadata": {},
     "output_type": "execute_result"
    }
   ],
   "source": [
    "A[:,:2000,:].shape"
   ]
  },
  {
   "cell_type": "code",
   "execution_count": null,
   "id": "0785c068-0caf-4817-96dc-7dbe90d4b372",
   "metadata": {},
   "outputs": [],
   "source": []
  }
 ],
 "metadata": {
  "kernelspec": {
   "display_name": "Python 3",
   "language": "python",
   "name": "python3"
  },
  "language_info": {
   "codemirror_mode": {
    "name": "ipython",
    "version": 3
   },
   "file_extension": ".py",
   "mimetype": "text/x-python",
   "name": "python",
   "nbconvert_exporter": "python",
   "pygments_lexer": "ipython3",
   "version": "3.8.10"
  }
 },
 "nbformat": 4,
 "nbformat_minor": 5
}
